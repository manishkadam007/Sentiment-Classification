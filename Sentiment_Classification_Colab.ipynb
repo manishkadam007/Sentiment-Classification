{
  "nbformat": 4,
  "nbformat_minor": 0,
  "metadata": {
    "kernelspec": {
      "display_name": "Python 3",
      "language": "python",
      "name": "python3"
    },
    "language_info": {
      "codemirror_mode": {
        "name": "ipython",
        "version": 3
      },
      "file_extension": ".py",
      "mimetype": "text/x-python",
      "name": "python",
      "nbconvert_exporter": "python",
      "pygments_lexer": "ipython3",
      "version": "3.7.4"
    },
    "colab": {
      "name": "Sentiment Classification.ipynb",
      "provenance": []
    },
    "accelerator": "GPU"
  },
  "cells": [
    {
      "cell_type": "code",
      "metadata": {
        "id": "2rqVG15LldY9",
        "colab_type": "code",
        "colab": {}
      },
      "source": [
        "import numpy as np\n",
        "import matplotlib.pyplot as plt\n",
        "import torch\n",
        "from torch import nn,optim\n",
        "import torch.nn.functional as F"
      ],
      "execution_count": 1,
      "outputs": []
    },
    {
      "cell_type": "markdown",
      "metadata": {
        "id": "CJf7RQ_lldZC",
        "colab_type": "text"
      },
      "source": [
        "## Loading The Dataset"
      ]
    },
    {
      "cell_type": "code",
      "metadata": {
        "id": "8YknINbjldZC",
        "colab_type": "code",
        "colab": {}
      },
      "source": [
        "def pretty_print_review_and_label(i):\n",
        "    print(labels[i] + \"\\t:\\t\" + reviews[i][:80] + \"...\")\n",
        "\n",
        "g = open('reviews.txt','r') # What we know!\n",
        "reviews = list(map(lambda x:x[:-1],g.readlines()))\n",
        "g.close()\n",
        "\n",
        "g = open('labels.txt','r') # What we WANT to know!\n",
        "labels = list(map(lambda x:x[:-1].upper(),g.readlines()))\n",
        "g.close()"
      ],
      "execution_count": 2,
      "outputs": []
    },
    {
      "cell_type": "code",
      "metadata": {
        "id": "BN5ZiNaDldZH",
        "colab_type": "code",
        "colab": {
          "base_uri": "https://localhost:8080/",
          "height": 34
        },
        "outputId": "a3cb9f5a-43eb-4987-8743-4fbc9998ecf2"
      },
      "source": [
        "len(reviews)"
      ],
      "execution_count": 3,
      "outputs": [
        {
          "output_type": "execute_result",
          "data": {
            "text/plain": [
              "25000"
            ]
          },
          "metadata": {
            "tags": []
          },
          "execution_count": 3
        }
      ]
    },
    {
      "cell_type": "code",
      "metadata": {
        "id": "JMYIgWcpldZL",
        "colab_type": "code",
        "colab": {
          "base_uri": "https://localhost:8080/",
          "height": 34
        },
        "outputId": "2b7f591b-c4c7-40cc-a279-0d3a673e17c2"
      },
      "source": [
        "len(labels)"
      ],
      "execution_count": 4,
      "outputs": [
        {
          "output_type": "execute_result",
          "data": {
            "text/plain": [
              "25000"
            ]
          },
          "metadata": {
            "tags": []
          },
          "execution_count": 4
        }
      ]
    },
    {
      "cell_type": "markdown",
      "metadata": {
        "id": "b3oEPSiAldZQ",
        "colab_type": "text"
      },
      "source": [
        "## Creating a Vocabulary"
      ]
    },
    {
      "cell_type": "code",
      "metadata": {
        "id": "ivYBehEMldZQ",
        "colab_type": "code",
        "colab": {}
      },
      "source": [
        "vocab = set()\n",
        "for review in reviews:\n",
        "    for word in review.split(\" \"):\n",
        "        vocab.add(word)"
      ],
      "execution_count": 5,
      "outputs": []
    },
    {
      "cell_type": "code",
      "metadata": {
        "id": "2IRc0ZMoldZT",
        "colab_type": "code",
        "colab": {
          "base_uri": "https://localhost:8080/",
          "height": 34
        },
        "outputId": "1e958294-4778-45ff-cecf-9b9ad590c6a3"
      },
      "source": [
        "len(vocab)"
      ],
      "execution_count": 6,
      "outputs": [
        {
          "output_type": "execute_result",
          "data": {
            "text/plain": [
              "74074"
            ]
          },
          "metadata": {
            "tags": []
          },
          "execution_count": 6
        }
      ]
    },
    {
      "cell_type": "markdown",
      "metadata": {
        "id": "engp84ldldZX",
        "colab_type": "text"
      },
      "source": [
        "### Creating a dictionary for converting the words into numbers"
      ]
    },
    {
      "cell_type": "code",
      "metadata": {
        "id": "fX9OCjweldZX",
        "colab_type": "code",
        "colab": {}
      },
      "source": [
        "word2index = {}\n",
        "for i,word in enumerate(vocab):\n",
        "    word2index[word] = i"
      ],
      "execution_count": 7,
      "outputs": []
    },
    {
      "cell_type": "code",
      "metadata": {
        "id": "vfB7V4TTldZb",
        "colab_type": "code",
        "colab": {
          "base_uri": "https://localhost:8080/",
          "height": 34
        },
        "outputId": "4f13b718-6a69-4431-e244-b0ce02fb94b4"
      },
      "source": [
        "word2index['']"
      ],
      "execution_count": 8,
      "outputs": [
        {
          "output_type": "execute_result",
          "data": {
            "text/plain": [
              "0"
            ]
          },
          "metadata": {
            "tags": []
          },
          "execution_count": 8
        }
      ]
    },
    {
      "cell_type": "markdown",
      "metadata": {
        "id": "j7X8rvGBldZe",
        "colab_type": "text"
      },
      "source": [
        "## Creating the Input vector"
      ]
    },
    {
      "cell_type": "code",
      "metadata": {
        "id": "QtJJdfGTldZf",
        "colab_type": "code",
        "colab": {}
      },
      "source": [
        "def get_input_vector(review):\n",
        "    x = np.zeros((1,len(vocab)))\n",
        "    for word in review.split(\" \"):\n",
        "        x[0][word2index[word]]+=1\n",
        "    return x"
      ],
      "execution_count": null,
      "outputs": []
    },
    {
      "cell_type": "markdown",
      "metadata": {
        "id": "F9UM1o_MldZi",
        "colab_type": "text"
      },
      "source": [
        "### Converting Labels into numbers\n",
        "    - 0 for negative\n",
        "    - 1 for positive"
      ]
    },
    {
      "cell_type": "code",
      "metadata": {
        "id": "06cy5XmAldZi",
        "colab_type": "code",
        "colab": {}
      },
      "source": [
        "y = np.zeros((len(labels),1))"
      ],
      "execution_count": 9,
      "outputs": []
    },
    {
      "cell_type": "code",
      "metadata": {
        "id": "3A3FHzJ9ldZl",
        "colab_type": "code",
        "colab": {}
      },
      "source": [
        "for i in range(len(labels)):\n",
        "    if labels[i].upper() == \"POSITIVE\":\n",
        "        y[i][0] = 1"
      ],
      "execution_count": 10,
      "outputs": []
    },
    {
      "cell_type": "markdown",
      "metadata": {
        "id": "UKbgXs6xldZo",
        "colab_type": "text"
      },
      "source": [
        "## Defining the Model"
      ]
    },
    {
      "cell_type": "code",
      "metadata": {
        "id": "XRE43roAldZp",
        "colab_type": "code",
        "colab": {}
      },
      "source": [
        "class SentimentNet(nn.Module):\n",
        "    \n",
        "    def __init__(self, vocab_size):\n",
        "        super(SentimentNet, self).__init__()\n",
        "        \n",
        "        self.fc1 = nn.Linear(vocab_size,1000)\n",
        "        self.fc2 = nn.Linear(1000,1)\n",
        "    \n",
        "    def forward(self,review):\n",
        "        x = get_input_vector(review)\n",
        "        x = torch.from_numpy(x)\n",
        "        x = F.relu(self.fc1(x.float()))\n",
        "        x = F.sigmoid(self.fc2(x))\n",
        "        return x"
      ],
      "execution_count": null,
      "outputs": []
    },
    {
      "cell_type": "code",
      "metadata": {
        "id": "3ZQ_WsH8ldZs",
        "colab_type": "code",
        "colab": {}
      },
      "source": [
        "model = SentimentNet(len(vocab))"
      ],
      "execution_count": null,
      "outputs": []
    },
    {
      "cell_type": "code",
      "metadata": {
        "id": "L5imA-wDldZu",
        "colab_type": "code",
        "colab": {}
      },
      "source": [
        "loss = nn.BCELoss()\n",
        "optimizer = optim.Adam(model.parameters(), lr = 0.01)"
      ],
      "execution_count": null,
      "outputs": []
    },
    {
      "cell_type": "code",
      "metadata": {
        "id": "r2iRcab2ldZy",
        "colab_type": "code",
        "colab": {}
      },
      "source": [
        "train_reviews = reviews[:-1000]\n",
        "test_reviews  = reviews[-1000:]"
      ],
      "execution_count": null,
      "outputs": []
    },
    {
      "cell_type": "code",
      "metadata": {
        "id": "74Tn46NTldZ2",
        "colab_type": "code",
        "colab": {},
        "outputId": "f2570863-c6fe-4ce4-c2cb-0032959bdc52"
      },
      "source": [
        "len(test_reviews)"
      ],
      "execution_count": null,
      "outputs": [
        {
          "output_type": "execute_result",
          "data": {
            "text/plain": [
              "1000"
            ]
          },
          "metadata": {
            "tags": []
          },
          "execution_count": 16
        }
      ]
    },
    {
      "cell_type": "code",
      "metadata": {
        "id": "iMncxkPZldZ5",
        "colab_type": "code",
        "colab": {},
        "outputId": "9f6fdb1a-1270-4e07-a96c-271127ba87a0"
      },
      "source": [
        "n_epochs = 1\n",
        "\n",
        "for epoch in range(n_epochs):\n",
        "    epoch_loss = 0.0\n",
        "    correct = 0\n",
        "    total = 0\n",
        "    \n",
        "    for i,review in enumerate(train_reviews[:100]):\n",
        "        \n",
        "        model.zero_grad()\n",
        "        \n",
        "        prob = model(review)\n",
        "        \n",
        "        total+=1\n",
        "        \n",
        "        if( ( (prob>0.5) & (y[i]==1) ) | ( (prob<=0.5) & (y[i]==0) ) ):\n",
        "            correct+=1\n",
        "            \n",
        "        loss1 = loss(prob,torch.tensor(y[i]).float())\n",
        "        \n",
        "        epoch_loss += loss1.item()\n",
        "        \n",
        "        loss1.backward()\n",
        "        \n",
        "        optimizer.step()\n",
        "        \n",
        "        if i % 10 == 9: \n",
        "            accuracy = 100*correct/total\n",
        "            print('Epoch: {}, Review: {}, Accuracy: {}'.format(epoch + 1, i+1, accuracy))\n",
        "            \n",
        "print('Finished Training')"
      ],
      "execution_count": null,
      "outputs": [
        {
          "output_type": "stream",
          "text": [
            "C:\\Users\\Manish\\Anaconda3\\lib\\site-packages\\torch\\nn\\functional.py:1569: UserWarning: nn.functional.sigmoid is deprecated. Use torch.sigmoid instead.\n",
            "  warnings.warn(\"nn.functional.sigmoid is deprecated. Use torch.sigmoid instead.\")\n",
            "C:\\Users\\Manish\\Anaconda3\\lib\\site-packages\\torch\\nn\\modules\\loss.py:516: UserWarning: Using a target size (torch.Size([1])) that is different to the input size (torch.Size([1, 1])) is deprecated. Please ensure they have the same size.\n",
            "  return F.binary_cross_entropy(input, target, weight=self.weight, reduction=self.reduction)\n"
          ],
          "name": "stderr"
        },
        {
          "output_type": "stream",
          "text": [
            "Epoch: 1, Review: 10, Accuracy: 40.0\n",
            "Epoch: 1, Review: 20, Accuracy: 40.0\n",
            "Epoch: 1, Review: 30, Accuracy: 43.333333333333336\n",
            "Epoch: 1, Review: 40, Accuracy: 45.0\n",
            "Epoch: 1, Review: 50, Accuracy: 46.0\n",
            "Epoch: 1, Review: 60, Accuracy: 46.666666666666664\n",
            "Epoch: 1, Review: 70, Accuracy: 50.0\n",
            "Epoch: 1, Review: 80, Accuracy: 53.75\n",
            "Epoch: 1, Review: 90, Accuracy: 56.666666666666664\n",
            "Epoch: 1, Review: 100, Accuracy: 61.0\n",
            "Finished Training\n"
          ],
          "name": "stdout"
        }
      ]
    },
    {
      "cell_type": "code",
      "metadata": {
        "id": "LLIHCSw8ldZ-",
        "colab_type": "code",
        "colab": {},
        "outputId": "034c9756-e2c8-4801-9a92-88515206e500"
      },
      "source": [
        "model.eval()\n",
        "correct = 0\n",
        "total = 0\n",
        "    \n",
        "for i,review in enumerate(test_reviews[:200]):\n",
        "   \n",
        "    prob = model(review)\n",
        "        \n",
        "    total+=1\n",
        "        \n",
        "    if( ( (prob>0.5) & (y[i+24000]==1) ) | ( (prob<=0.5) & (y[i+24000]==0) ) ):\n",
        "        correct+=1\n",
        "            \n",
        "        \n",
        "    if i % 100 == 99: \n",
        "        accuracy = 100*correct/total\n",
        "        print('Epoch: {}, Review: {}, Test Accuracy: {}'.format(epoch + 1, i+1, accuracy))"
      ],
      "execution_count": null,
      "outputs": [
        {
          "output_type": "stream",
          "text": [
            "Epoch: 1, Review: 100, Test Accuracy: 65.0\n",
            "Epoch: 1, Review: 200, Test Accuracy: 66.0\n"
          ],
          "name": "stdout"
        }
      ]
    },
    {
      "cell_type": "markdown",
      "metadata": {
        "id": "1CTvu7awldaB",
        "colab_type": "text"
      },
      "source": [
        "## Approach 2:"
      ]
    },
    {
      "cell_type": "code",
      "metadata": {
        "id": "ckUz3VEEldaC",
        "colab_type": "code",
        "colab": {}
      },
      "source": [
        "def get_input_vector(review):\n",
        "    x = np.zeros((1,len(vocab)))\n",
        "    for word in review.split(\" \"):\n",
        "        x[0][word2index[word]] = 1\n",
        "    return x"
      ],
      "execution_count": 11,
      "outputs": []
    },
    {
      "cell_type": "code",
      "metadata": {
        "id": "xSij_MjSldaE",
        "colab_type": "code",
        "colab": {}
      },
      "source": [
        "import torch.nn.functional as F"
      ],
      "execution_count": null,
      "outputs": []
    },
    {
      "cell_type": "code",
      "metadata": {
        "id": "GigC38r_ldaK",
        "colab_type": "code",
        "colab": {}
      },
      "source": [
        "class SentimentNet2(nn.Module):\n",
        "    \n",
        "    def __init__(self, vocab_size,embedding_dim):\n",
        "        super(SentimentNet2, self).__init__()\n",
        "        \n",
        "        #self.embd = nn.Embedding(vocab_size,embedding_dim)\n",
        "        self.fc1 = nn.Linear(vocab_size,256)\n",
        "        self.fc2 = nn.Linear(256,1)\n",
        "    \n",
        "    def forward(self,review):\n",
        "        \n",
        "        x = get_input_vector(review)\n",
        "        x = torch.from_numpy(x)\n",
        "        #x = self.embd(x.long())\n",
        "        x = F.relu(self.fc1(x.float()))\n",
        "        x = self.fc2(x)\n",
        "        x = F.sigmoid(x)\n",
        "        \n",
        "        return x"
      ],
      "execution_count": null,
      "outputs": []
    },
    {
      "cell_type": "code",
      "metadata": {
        "id": "ni1GcIrFldaO",
        "colab_type": "code",
        "colab": {}
      },
      "source": [
        "model2 = SentimentNet2(len(vocab),512)"
      ],
      "execution_count": null,
      "outputs": []
    },
    {
      "cell_type": "code",
      "metadata": {
        "id": "-sotUGuUldaQ",
        "colab_type": "code",
        "colab": {}
      },
      "source": [
        "train_reviews = reviews[:1000]"
      ],
      "execution_count": null,
      "outputs": []
    },
    {
      "cell_type": "code",
      "metadata": {
        "id": "N8aqPpkXldaS",
        "colab_type": "code",
        "colab": {},
        "outputId": "fc4a84e8-e367-40de-ecec-8bafdbe34dbb"
      },
      "source": [
        "len(train_reviews)"
      ],
      "execution_count": null,
      "outputs": [
        {
          "output_type": "execute_result",
          "data": {
            "text/plain": [
              "1000"
            ]
          },
          "metadata": {
            "tags": []
          },
          "execution_count": 75
        }
      ]
    },
    {
      "cell_type": "code",
      "metadata": {
        "id": "b09NwgT0ldaV",
        "colab_type": "code",
        "colab": {}
      },
      "source": [
        "loss = nn.BCELoss()\n",
        "optimizer = optim.Adam(model2.parameters(), lr = 0.01)"
      ],
      "execution_count": null,
      "outputs": []
    },
    {
      "cell_type": "code",
      "metadata": {
        "id": "9Uk0QrefldaY",
        "colab_type": "code",
        "colab": {},
        "outputId": "c8a773bc-af56-4868-c8fe-7a1fccf8d5c9"
      },
      "source": [
        "len(reviews[0])"
      ],
      "execution_count": null,
      "outputs": [
        {
          "output_type": "execute_result",
          "data": {
            "text/plain": [
              "832"
            ]
          },
          "metadata": {
            "tags": []
          },
          "execution_count": 77
        }
      ]
    },
    {
      "cell_type": "code",
      "metadata": {
        "id": "9JRK2XeCldac",
        "colab_type": "code",
        "colab": {},
        "outputId": "b751b845-ef22-494a-ab5d-0e3614975ba3"
      },
      "source": [
        "reviews[0]"
      ],
      "execution_count": null,
      "outputs": [
        {
          "output_type": "execute_result",
          "data": {
            "text/plain": [
              "'bromwell high is a cartoon comedy . it ran at the same time as some other programs about school life  such as  teachers  . my   years in the teaching profession lead me to believe that bromwell high  s satire is much closer to reality than is  teachers  . the scramble to survive financially  the insightful students who can see right through their pathetic teachers  pomp  the pettiness of the whole situation  all remind me of the schools i knew and their students . when i saw the episode in which a student repeatedly tried to burn down the school  i immediately recalled . . . . . . . . . at . . . . . . . . . . high . a classic line inspector i  m here to sack one of your teachers . student welcome to bromwell high . i expect that many adults of my age think that bromwell high is far fetched . what a pity that it isn  t   '"
            ]
          },
          "metadata": {
            "tags": []
          },
          "execution_count": 78
        }
      ]
    },
    {
      "cell_type": "code",
      "metadata": {
        "id": "zW7dOtkDldaf",
        "colab_type": "code",
        "colab": {},
        "outputId": "2b2fd605-83b1-42b3-f9b1-231c0392e008"
      },
      "source": [
        "n_epochs = 1\n",
        "\n",
        "for epoch in range(n_epochs):\n",
        "    epoch_loss = 0.0\n",
        "    correct = 0\n",
        "    total = 0\n",
        "    \n",
        "    for i,review in enumerate(train_reviews):\n",
        "        \n",
        "        model2.zero_grad()\n",
        "        \n",
        "        prob = model2(review)\n",
        "        \n",
        "        total+=1\n",
        "        \n",
        "        if( ( (prob>0.5) & (y[i]==1) ) | ( (prob<=0.5) & (y[i]==0) ) ):\n",
        "            correct+=1\n",
        "            \n",
        "        target = torch.tensor(y[i])\n",
        "        \n",
        "        target = target.view(1,1)\n",
        "            \n",
        "        loss1 = loss(prob,target.float())\n",
        "        \n",
        "        epoch_loss += loss1.item()\n",
        "        \n",
        "        loss1.backward()\n",
        "        \n",
        "        optimizer.step()\n",
        "        \n",
        "        if i % 50 == 49: \n",
        "            accuracy = 100*correct/total\n",
        "            print('Epoch: {}, Review: {}, Accuracy: {}'.format(epoch + 1, i+1, accuracy))\n",
        "            \n",
        "print('Finished Training')"
      ],
      "execution_count": null,
      "outputs": [
        {
          "output_type": "stream",
          "text": [
            "Epoch: 1, Review: 50, Accuracy: 86.0\n",
            "Epoch: 1, Review: 100, Accuracy: 88.0\n",
            "Epoch: 1, Review: 150, Accuracy: 87.33333333333333\n",
            "Epoch: 1, Review: 200, Accuracy: 83.5\n",
            "Epoch: 1, Review: 250, Accuracy: 84.4\n",
            "Epoch: 1, Review: 300, Accuracy: 82.33333333333333\n",
            "Epoch: 1, Review: 350, Accuracy: 82.85714285714286\n",
            "Epoch: 1, Review: 400, Accuracy: 82.5\n",
            "Epoch: 1, Review: 450, Accuracy: 82.44444444444444\n",
            "Epoch: 1, Review: 500, Accuracy: 83.0\n",
            "Epoch: 1, Review: 550, Accuracy: 81.63636363636364\n",
            "Epoch: 1, Review: 600, Accuracy: 81.83333333333333\n",
            "Epoch: 1, Review: 650, Accuracy: 82.0\n",
            "Epoch: 1, Review: 700, Accuracy: 82.28571428571429\n",
            "Epoch: 1, Review: 750, Accuracy: 82.0\n",
            "Epoch: 1, Review: 800, Accuracy: 81.375\n",
            "Epoch: 1, Review: 850, Accuracy: 82.23529411764706\n",
            "Epoch: 1, Review: 900, Accuracy: 82.0\n",
            "Epoch: 1, Review: 950, Accuracy: 82.10526315789474\n",
            "Epoch: 1, Review: 1000, Accuracy: 82.2\n",
            "Finished Training\n"
          ],
          "name": "stdout"
        }
      ]
    },
    {
      "cell_type": "code",
      "metadata": {
        "id": "HQWs3xCbldai",
        "colab_type": "code",
        "colab": {}
      },
      "source": [
        "test_reviews = reviews[-1000:]"
      ],
      "execution_count": null,
      "outputs": []
    },
    {
      "cell_type": "code",
      "metadata": {
        "id": "jw8A7dWnldam",
        "colab_type": "code",
        "colab": {},
        "outputId": "380cbfa8-3426-44bb-ca49-3fecac0fecb4"
      },
      "source": [
        "len(test_reviews)"
      ],
      "execution_count": null,
      "outputs": [
        {
          "output_type": "execute_result",
          "data": {
            "text/plain": [
              "1000"
            ]
          },
          "metadata": {
            "tags": []
          },
          "execution_count": 82
        }
      ]
    },
    {
      "cell_type": "code",
      "metadata": {
        "id": "H0xxWR9zldar",
        "colab_type": "code",
        "colab": {},
        "outputId": "188c0442-5231-4e0e-8d2d-62554841bcbb"
      },
      "source": [
        "model2.eval()\n",
        "correct = 0\n",
        "total = 0\n",
        "    \n",
        "for i,review in enumerate(test_reviews):\n",
        "   \n",
        "    prob = model2(review)\n",
        "        \n",
        "    total+=1\n",
        "        \n",
        "    if( ( (prob>0.5) & (y[i+24000]==1) ) | ( (prob<=0.5) & (y[i+24000]==0) ) ):\n",
        "        correct+=1\n",
        "            \n",
        "        \n",
        "    if i % 100 == 99: \n",
        "        accuracy = 100*correct/total\n",
        "        print('Epoch: {}, Review: {}, Test Accuracy: {}'.format(epoch + 1, i+1, accuracy))"
      ],
      "execution_count": null,
      "outputs": [
        {
          "output_type": "stream",
          "text": [
            "Epoch: 1, Review: 100, Test Accuracy: 75.0\n",
            "Epoch: 1, Review: 200, Test Accuracy: 74.0\n",
            "Epoch: 1, Review: 300, Test Accuracy: 75.33333333333333\n",
            "Epoch: 1, Review: 400, Test Accuracy: 75.25\n",
            "Epoch: 1, Review: 500, Test Accuracy: 76.6\n",
            "Epoch: 1, Review: 600, Test Accuracy: 76.0\n",
            "Epoch: 1, Review: 700, Test Accuracy: 74.85714285714286\n",
            "Epoch: 1, Review: 800, Test Accuracy: 73.875\n",
            "Epoch: 1, Review: 900, Test Accuracy: 73.0\n",
            "Epoch: 1, Review: 1000, Test Accuracy: 73.6\n"
          ],
          "name": "stdout"
        }
      ]
    },
    {
      "cell_type": "markdown",
      "metadata": {
        "id": "NH9eLYlEldau",
        "colab_type": "text"
      },
      "source": [
        "## Approach 3"
      ]
    },
    {
      "cell_type": "markdown",
      "metadata": {
        "id": "Prac-oNOldav",
        "colab_type": "text"
      },
      "source": [
        "### Using mini_batches and training on GPU"
      ]
    },
    {
      "cell_type": "code",
      "metadata": {
        "id": "VnTYGKQ4ldav",
        "colab_type": "code",
        "colab": {}
      },
      "source": [
        "class SentimentNet3(nn.Module):\n",
        "    \n",
        "    def __init__(self, vocab_size):\n",
        "        super(SentimentNet3, self).__init__()\n",
        "        \n",
        "        self.fc1 = nn.Linear(vocab_size,1000)\n",
        "        self.fc2 = nn.Linear(1000,1)\n",
        "    \n",
        "    def forward(self,x):\n",
        "        \n",
        "        x = F.relu(self.fc1(x))\n",
        "        x = self.fc2(x)\n",
        "        x = F.sigmoid(x)\n",
        "        \n",
        "        return x"
      ],
      "execution_count": 12,
      "outputs": []
    },
    {
      "cell_type": "code",
      "metadata": {
        "id": "CNwN0rqhldaz",
        "colab_type": "code",
        "colab": {}
      },
      "source": [
        "net = SentimentNet3(len(vocab))"
      ],
      "execution_count": 13,
      "outputs": []
    },
    {
      "cell_type": "code",
      "metadata": {
        "id": "lI72W0zQlda2",
        "colab_type": "code",
        "colab": {
          "base_uri": "https://localhost:8080/",
          "height": 34
        },
        "outputId": "332ad95e-2922-49f2-c3ce-3160df09f24b"
      },
      "source": [
        "device = torch.device(\"cuda:0\" if torch.cuda.is_available() else \"cpu\")\n",
        "\n",
        "# Assuming that we are on a CUDA machine, this should print a CUDA device:\n",
        "\n",
        "print(device)"
      ],
      "execution_count": 14,
      "outputs": [
        {
          "output_type": "stream",
          "text": [
            "cuda:0\n"
          ],
          "name": "stdout"
        }
      ]
    },
    {
      "cell_type": "code",
      "metadata": {
        "id": "7MYRcvFMlda6",
        "colab_type": "code",
        "colab": {
          "base_uri": "https://localhost:8080/",
          "height": 85
        },
        "outputId": "d61bdbab-4d50-4e5e-e436-678d632593e4"
      },
      "source": [
        "net.to(device)"
      ],
      "execution_count": 15,
      "outputs": [
        {
          "output_type": "execute_result",
          "data": {
            "text/plain": [
              "SentimentNet3(\n",
              "  (fc1): Linear(in_features=74074, out_features=1000, bias=True)\n",
              "  (fc2): Linear(in_features=1000, out_features=1, bias=True)\n",
              ")"
            ]
          },
          "metadata": {
            "tags": []
          },
          "execution_count": 15
        }
      ]
    },
    {
      "cell_type": "code",
      "metadata": {
        "id": "Gvb7D9qQlda8",
        "colab_type": "code",
        "colab": {}
      },
      "source": [
        "train_reviews = reviews[:-1000]"
      ],
      "execution_count": 16,
      "outputs": []
    },
    {
      "cell_type": "code",
      "metadata": {
        "id": "WMCkVJBFldbA",
        "colab_type": "code",
        "colab": {
          "base_uri": "https://localhost:8080/",
          "height": 34
        },
        "outputId": "b76c58e0-8867-4854-8ea3-556664f9f804"
      },
      "source": [
        "len(train_reviews)"
      ],
      "execution_count": 17,
      "outputs": [
        {
          "output_type": "execute_result",
          "data": {
            "text/plain": [
              "24000"
            ]
          },
          "metadata": {
            "tags": []
          },
          "execution_count": 17
        }
      ]
    },
    {
      "cell_type": "code",
      "metadata": {
        "id": "f906gwwYldbF",
        "colab_type": "code",
        "colab": {}
      },
      "source": [
        "test_reviews = reviews[-1000:]"
      ],
      "execution_count": 18,
      "outputs": []
    },
    {
      "cell_type": "code",
      "metadata": {
        "id": "L7rXZqmDldbI",
        "colab_type": "code",
        "colab": {
          "base_uri": "https://localhost:8080/",
          "height": 34
        },
        "outputId": "d1e4867d-acfd-4117-e4d5-303f4245afa7"
      },
      "source": [
        "len(test_reviews)"
      ],
      "execution_count": 19,
      "outputs": [
        {
          "output_type": "execute_result",
          "data": {
            "text/plain": [
              "1000"
            ]
          },
          "metadata": {
            "tags": []
          },
          "execution_count": 19
        }
      ]
    },
    {
      "cell_type": "code",
      "metadata": {
        "id": "7kzSNYKRldbM",
        "colab_type": "code",
        "colab": {}
      },
      "source": [
        "loss = nn.BCELoss()\n",
        "optimizer = optim.Adam(net.parameters(), lr = 0.01)"
      ],
      "execution_count": 20,
      "outputs": []
    },
    {
      "cell_type": "code",
      "metadata": {
        "id": "6le4U3x5ldbS",
        "colab_type": "code",
        "colab": {
          "base_uri": "https://localhost:8080/",
          "height": 1000
        },
        "outputId": "8c4b4082-6e9d-4e60-9a45-353b6150939a"
      },
      "source": [
        "n_epochs = 1\n",
        "\n",
        "for epoch in range(n_epochs):\n",
        "    epoch_loss = 0.0\n",
        "    correct = 0\n",
        "    total = 0\n",
        "    \n",
        "    for i,review in enumerate(train_reviews):\n",
        "        \n",
        "        net.zero_grad()\n",
        "        \n",
        "        x = get_input_vector(review)\n",
        "        \n",
        "        x = torch.from_numpy(x)\n",
        "        \n",
        "        x = x.to(device)\n",
        "        \n",
        "        prob = net(x.float())\n",
        "        \n",
        "        total+=1\n",
        "        \n",
        "        if( ( (prob.cpu()>0.5) & (y[i]==1) ) | ( (prob.cpu()<=0.5) & (y[i]==0) ) ):\n",
        "            correct+=1\n",
        "            \n",
        "        target = torch.tensor(y[i])\n",
        "        \n",
        "        target = target.view(1,1)\n",
        "            \n",
        "        target = target.to(device)\n",
        "            \n",
        "        loss1 = loss(prob,target.float())\n",
        "        \n",
        "        epoch_loss += loss1.item()\n",
        "        \n",
        "        loss1.backward()\n",
        "        \n",
        "        optimizer.step()\n",
        "        \n",
        "        if i % 100 == 99: \n",
        "            accuracy = 100*correct/total\n",
        "            print('Epoch: {}, Review: {}, Accuracy: {}'.format(epoch + 1, i+1, accuracy))\n",
        "            \n",
        "print('Finished Training')"
      ],
      "execution_count": 22,
      "outputs": [
        {
          "output_type": "stream",
          "text": [
            "/usr/local/lib/python3.6/dist-packages/torch/nn/functional.py:1569: UserWarning: nn.functional.sigmoid is deprecated. Use torch.sigmoid instead.\n",
            "  warnings.warn(\"nn.functional.sigmoid is deprecated. Use torch.sigmoid instead.\")\n"
          ],
          "name": "stderr"
        },
        {
          "output_type": "stream",
          "text": [
            "Epoch: 1, Review: 100, Accuracy: 93.0\n",
            "Epoch: 1, Review: 200, Accuracy: 95.0\n",
            "Epoch: 1, Review: 300, Accuracy: 89.66666666666667\n",
            "Epoch: 1, Review: 400, Accuracy: 88.25\n",
            "Epoch: 1, Review: 500, Accuracy: 86.2\n",
            "Epoch: 1, Review: 600, Accuracy: 84.33333333333333\n",
            "Epoch: 1, Review: 700, Accuracy: 84.57142857142857\n",
            "Epoch: 1, Review: 800, Accuracy: 84.25\n",
            "Epoch: 1, Review: 900, Accuracy: 84.55555555555556\n",
            "Epoch: 1, Review: 1000, Accuracy: 84.5\n",
            "Epoch: 1, Review: 1100, Accuracy: 84.54545454545455\n",
            "Epoch: 1, Review: 1200, Accuracy: 84.66666666666667\n",
            "Epoch: 1, Review: 1300, Accuracy: 84.53846153846153\n",
            "Epoch: 1, Review: 1400, Accuracy: 84.14285714285714\n",
            "Epoch: 1, Review: 1500, Accuracy: 83.46666666666667\n",
            "Epoch: 1, Review: 1600, Accuracy: 83.3125\n",
            "Epoch: 1, Review: 1700, Accuracy: 82.94117647058823\n",
            "Epoch: 1, Review: 1800, Accuracy: 82.94444444444444\n",
            "Epoch: 1, Review: 1900, Accuracy: 82.89473684210526\n",
            "Epoch: 1, Review: 2000, Accuracy: 83.2\n",
            "Epoch: 1, Review: 2100, Accuracy: 83.42857142857143\n",
            "Epoch: 1, Review: 2200, Accuracy: 83.5\n",
            "Epoch: 1, Review: 2300, Accuracy: 83.56521739130434\n",
            "Epoch: 1, Review: 2400, Accuracy: 83.5\n",
            "Epoch: 1, Review: 2500, Accuracy: 83.48\n",
            "Epoch: 1, Review: 2600, Accuracy: 83.8076923076923\n",
            "Epoch: 1, Review: 2700, Accuracy: 83.66666666666667\n",
            "Epoch: 1, Review: 2800, Accuracy: 83.67857142857143\n",
            "Epoch: 1, Review: 2900, Accuracy: 83.6896551724138\n",
            "Epoch: 1, Review: 3000, Accuracy: 83.63333333333334\n",
            "Epoch: 1, Review: 3100, Accuracy: 83.45161290322581\n",
            "Epoch: 1, Review: 3200, Accuracy: 83.4375\n",
            "Epoch: 1, Review: 3300, Accuracy: 83.15151515151516\n",
            "Epoch: 1, Review: 3400, Accuracy: 83.17647058823529\n",
            "Epoch: 1, Review: 3500, Accuracy: 83.17142857142858\n",
            "Epoch: 1, Review: 3600, Accuracy: 82.94444444444444\n",
            "Epoch: 1, Review: 3700, Accuracy: 82.97297297297297\n",
            "Epoch: 1, Review: 3800, Accuracy: 82.89473684210526\n",
            "Epoch: 1, Review: 3900, Accuracy: 82.8974358974359\n",
            "Epoch: 1, Review: 4000, Accuracy: 82.925\n",
            "Epoch: 1, Review: 4100, Accuracy: 82.90243902439025\n",
            "Epoch: 1, Review: 4200, Accuracy: 83.0\n",
            "Epoch: 1, Review: 4300, Accuracy: 83.0\n",
            "Epoch: 1, Review: 4400, Accuracy: 83.02272727272727\n",
            "Epoch: 1, Review: 4500, Accuracy: 83.02222222222223\n",
            "Epoch: 1, Review: 4600, Accuracy: 82.95652173913044\n",
            "Epoch: 1, Review: 4700, Accuracy: 83.06382978723404\n",
            "Epoch: 1, Review: 4800, Accuracy: 83.25\n",
            "Epoch: 1, Review: 4900, Accuracy: 83.38775510204081\n",
            "Epoch: 1, Review: 5000, Accuracy: 83.3\n",
            "Epoch: 1, Review: 5100, Accuracy: 83.3529411764706\n",
            "Epoch: 1, Review: 5200, Accuracy: 83.42307692307692\n",
            "Epoch: 1, Review: 5300, Accuracy: 83.45283018867924\n",
            "Epoch: 1, Review: 5400, Accuracy: 83.51851851851852\n",
            "Epoch: 1, Review: 5500, Accuracy: 83.52727272727273\n",
            "Epoch: 1, Review: 5600, Accuracy: 83.53571428571429\n",
            "Epoch: 1, Review: 5700, Accuracy: 83.52631578947368\n",
            "Epoch: 1, Review: 5800, Accuracy: 83.53448275862068\n",
            "Epoch: 1, Review: 5900, Accuracy: 83.55932203389831\n",
            "Epoch: 1, Review: 6000, Accuracy: 83.51666666666667\n",
            "Epoch: 1, Review: 6100, Accuracy: 83.47540983606558\n",
            "Epoch: 1, Review: 6200, Accuracy: 83.54838709677419\n",
            "Epoch: 1, Review: 6300, Accuracy: 83.65079365079364\n",
            "Epoch: 1, Review: 6400, Accuracy: 83.546875\n",
            "Epoch: 1, Review: 6500, Accuracy: 83.55384615384615\n",
            "Epoch: 1, Review: 6600, Accuracy: 83.56060606060606\n",
            "Epoch: 1, Review: 6700, Accuracy: 83.53731343283582\n",
            "Epoch: 1, Review: 6800, Accuracy: 83.52941176470588\n",
            "Epoch: 1, Review: 6900, Accuracy: 83.56521739130434\n",
            "Epoch: 1, Review: 7000, Accuracy: 83.7\n",
            "Epoch: 1, Review: 7100, Accuracy: 83.77464788732394\n",
            "Epoch: 1, Review: 7200, Accuracy: 83.875\n",
            "Epoch: 1, Review: 7300, Accuracy: 83.83561643835617\n",
            "Epoch: 1, Review: 7400, Accuracy: 83.86486486486487\n",
            "Epoch: 1, Review: 7500, Accuracy: 83.89333333333333\n",
            "Epoch: 1, Review: 7600, Accuracy: 83.96052631578948\n",
            "Epoch: 1, Review: 7700, Accuracy: 84.01298701298701\n",
            "Epoch: 1, Review: 7800, Accuracy: 84.05128205128206\n",
            "Epoch: 1, Review: 7900, Accuracy: 84.10126582278481\n",
            "Epoch: 1, Review: 8000, Accuracy: 84.175\n",
            "Epoch: 1, Review: 8100, Accuracy: 84.17283950617283\n",
            "Epoch: 1, Review: 8200, Accuracy: 84.2439024390244\n",
            "Epoch: 1, Review: 8300, Accuracy: 84.28915662650603\n",
            "Epoch: 1, Review: 8400, Accuracy: 84.29761904761905\n",
            "Epoch: 1, Review: 8500, Accuracy: 84.3529411764706\n",
            "Epoch: 1, Review: 8600, Accuracy: 84.44186046511628\n",
            "Epoch: 1, Review: 8700, Accuracy: 84.49425287356321\n",
            "Epoch: 1, Review: 8800, Accuracy: 84.4659090909091\n",
            "Epoch: 1, Review: 8900, Accuracy: 84.52808988764045\n",
            "Epoch: 1, Review: 9000, Accuracy: 84.54444444444445\n",
            "Epoch: 1, Review: 9100, Accuracy: 84.52747252747253\n",
            "Epoch: 1, Review: 9200, Accuracy: 84.6086956521739\n",
            "Epoch: 1, Review: 9300, Accuracy: 84.61290322580645\n",
            "Epoch: 1, Review: 9400, Accuracy: 84.63829787234043\n",
            "Epoch: 1, Review: 9500, Accuracy: 84.67368421052632\n",
            "Epoch: 1, Review: 9600, Accuracy: 84.66666666666667\n",
            "Epoch: 1, Review: 9700, Accuracy: 84.74226804123711\n",
            "Epoch: 1, Review: 9800, Accuracy: 84.77551020408163\n",
            "Epoch: 1, Review: 9900, Accuracy: 84.75757575757575\n",
            "Epoch: 1, Review: 10000, Accuracy: 84.79\n",
            "Epoch: 1, Review: 10100, Accuracy: 84.79207920792079\n",
            "Epoch: 1, Review: 10200, Accuracy: 84.80392156862744\n",
            "Epoch: 1, Review: 10300, Accuracy: 84.8252427184466\n",
            "Epoch: 1, Review: 10400, Accuracy: 84.76923076923077\n",
            "Epoch: 1, Review: 10500, Accuracy: 84.80952380952381\n",
            "Epoch: 1, Review: 10600, Accuracy: 84.79245283018868\n",
            "Epoch: 1, Review: 10700, Accuracy: 84.82242990654206\n",
            "Epoch: 1, Review: 10800, Accuracy: 84.85185185185185\n",
            "Epoch: 1, Review: 10900, Accuracy: 84.80733944954129\n",
            "Epoch: 1, Review: 11000, Accuracy: 84.87272727272727\n",
            "Epoch: 1, Review: 11100, Accuracy: 84.92792792792793\n",
            "Epoch: 1, Review: 11200, Accuracy: 84.89285714285714\n",
            "Epoch: 1, Review: 11300, Accuracy: 84.82300884955752\n",
            "Epoch: 1, Review: 11400, Accuracy: 84.65789473684211\n",
            "Epoch: 1, Review: 11500, Accuracy: 84.68695652173913\n",
            "Epoch: 1, Review: 11600, Accuracy: 84.64655172413794\n",
            "Epoch: 1, Review: 11700, Accuracy: 84.5982905982906\n",
            "Epoch: 1, Review: 11800, Accuracy: 84.58474576271186\n",
            "Epoch: 1, Review: 11900, Accuracy: 84.58823529411765\n",
            "Epoch: 1, Review: 12000, Accuracy: 84.59166666666667\n",
            "Epoch: 1, Review: 12100, Accuracy: 84.5702479338843\n",
            "Epoch: 1, Review: 12200, Accuracy: 84.5327868852459\n",
            "Epoch: 1, Review: 12300, Accuracy: 84.5691056910569\n",
            "Epoch: 1, Review: 12400, Accuracy: 84.5725806451613\n",
            "Epoch: 1, Review: 12500, Accuracy: 84.568\n",
            "Epoch: 1, Review: 12600, Accuracy: 84.61111111111111\n",
            "Epoch: 1, Review: 12700, Accuracy: 84.5984251968504\n",
            "Epoch: 1, Review: 12800, Accuracy: 84.5546875\n",
            "Epoch: 1, Review: 12900, Accuracy: 84.51937984496124\n",
            "Epoch: 1, Review: 13000, Accuracy: 84.53846153846153\n",
            "Epoch: 1, Review: 13100, Accuracy: 84.55725190839695\n",
            "Epoch: 1, Review: 13200, Accuracy: 84.52272727272727\n",
            "Epoch: 1, Review: 13300, Accuracy: 84.52631578947368\n",
            "Epoch: 1, Review: 13400, Accuracy: 84.48507462686567\n",
            "Epoch: 1, Review: 13500, Accuracy: 84.54814814814814\n",
            "Epoch: 1, Review: 13600, Accuracy: 84.58088235294117\n",
            "Epoch: 1, Review: 13700, Accuracy: 84.5912408759124\n",
            "Epoch: 1, Review: 13800, Accuracy: 84.6159420289855\n",
            "Epoch: 1, Review: 13900, Accuracy: 84.63309352517986\n",
            "Epoch: 1, Review: 14000, Accuracy: 84.65\n",
            "Epoch: 1, Review: 14100, Accuracy: 84.61702127659575\n",
            "Epoch: 1, Review: 14200, Accuracy: 84.61971830985915\n",
            "Epoch: 1, Review: 14300, Accuracy: 84.67132867132867\n",
            "Epoch: 1, Review: 14400, Accuracy: 84.56944444444444\n",
            "Epoch: 1, Review: 14500, Accuracy: 84.48965517241379\n",
            "Epoch: 1, Review: 14600, Accuracy: 84.42465753424658\n",
            "Epoch: 1, Review: 14700, Accuracy: 84.4421768707483\n",
            "Epoch: 1, Review: 14800, Accuracy: 84.42567567567568\n",
            "Epoch: 1, Review: 14900, Accuracy: 84.42953020134229\n",
            "Epoch: 1, Review: 15000, Accuracy: 84.39333333333333\n",
            "Epoch: 1, Review: 15100, Accuracy: 84.37086092715232\n",
            "Epoch: 1, Review: 15200, Accuracy: 84.38157894736842\n",
            "Epoch: 1, Review: 15300, Accuracy: 84.43137254901961\n",
            "Epoch: 1, Review: 15400, Accuracy: 84.44155844155844\n",
            "Epoch: 1, Review: 15500, Accuracy: 84.45161290322581\n",
            "Epoch: 1, Review: 15700, Accuracy: 84.31847133757962\n",
            "Epoch: 1, Review: 15800, Accuracy: 84.29113924050633\n",
            "Epoch: 1, Review: 15900, Accuracy: 84.27044025157232\n",
            "Epoch: 1, Review: 16000, Accuracy: 84.19375\n",
            "Epoch: 1, Review: 16100, Accuracy: 84.14285714285714\n",
            "Epoch: 1, Review: 16200, Accuracy: 84.21604938271605\n",
            "Epoch: 1, Review: 16300, Accuracy: 84.20858895705521\n",
            "Epoch: 1, Review: 16400, Accuracy: 84.16463414634147\n",
            "Epoch: 1, Review: 16500, Accuracy: 84.17575757575757\n",
            "Epoch: 1, Review: 16600, Accuracy: 84.19277108433735\n",
            "Epoch: 1, Review: 16700, Accuracy: 84.22155688622755\n",
            "Epoch: 1, Review: 16800, Accuracy: 84.23809523809524\n",
            "Epoch: 1, Review: 16900, Accuracy: 84.23076923076923\n",
            "Epoch: 1, Review: 17000, Accuracy: 84.24117647058823\n",
            "Epoch: 1, Review: 17100, Accuracy: 84.27485380116958\n",
            "Epoch: 1, Review: 17200, Accuracy: 84.30232558139535\n",
            "Epoch: 1, Review: 17300, Accuracy: 84.30057803468208\n",
            "Epoch: 1, Review: 17400, Accuracy: 84.2816091954023\n",
            "Epoch: 1, Review: 17500, Accuracy: 84.30285714285715\n",
            "Epoch: 1, Review: 17600, Accuracy: 84.2840909090909\n",
            "Epoch: 1, Review: 17700, Accuracy: 84.30508474576271\n",
            "Epoch: 1, Review: 17800, Accuracy: 84.32022471910112\n",
            "Epoch: 1, Review: 17900, Accuracy: 84.32402234636872\n",
            "Epoch: 1, Review: 18000, Accuracy: 84.35\n",
            "Epoch: 1, Review: 18100, Accuracy: 84.353591160221\n",
            "Epoch: 1, Review: 18200, Accuracy: 84.4065934065934\n",
            "Epoch: 1, Review: 18300, Accuracy: 84.4153005464481\n",
            "Epoch: 1, Review: 18400, Accuracy: 84.38586956521739\n",
            "Epoch: 1, Review: 18500, Accuracy: 84.42702702702702\n",
            "Epoch: 1, Review: 18600, Accuracy: 84.43010752688173\n",
            "Epoch: 1, Review: 18700, Accuracy: 84.4812834224599\n",
            "Epoch: 1, Review: 18800, Accuracy: 84.53191489361703\n",
            "Epoch: 1, Review: 18900, Accuracy: 84.53439153439153\n",
            "Epoch: 1, Review: 19000, Accuracy: 84.5\n",
            "Epoch: 1, Review: 19100, Accuracy: 84.54973821989529\n",
            "Epoch: 1, Review: 19200, Accuracy: 84.56770833333333\n",
            "Epoch: 1, Review: 19300, Accuracy: 84.62176165803109\n",
            "Epoch: 1, Review: 19400, Accuracy: 84.6082474226804\n",
            "Epoch: 1, Review: 19500, Accuracy: 84.6\n",
            "Epoch: 1, Review: 19600, Accuracy: 84.56632653061224\n",
            "Epoch: 1, Review: 19700, Accuracy: 84.53807106598985\n",
            "Epoch: 1, Review: 19800, Accuracy: 84.55555555555556\n",
            "Epoch: 1, Review: 19900, Accuracy: 84.55778894472361\n",
            "Epoch: 1, Review: 20000, Accuracy: 84.58\n",
            "Epoch: 1, Review: 20100, Accuracy: 84.59203980099502\n",
            "Epoch: 1, Review: 20200, Accuracy: 84.62376237623762\n",
            "Epoch: 1, Review: 20300, Accuracy: 84.66502463054188\n",
            "Epoch: 1, Review: 20400, Accuracy: 84.68627450980392\n",
            "Epoch: 1, Review: 20500, Accuracy: 84.6829268292683\n",
            "Epoch: 1, Review: 20600, Accuracy: 84.67961165048544\n",
            "Epoch: 1, Review: 20700, Accuracy: 84.66183574879227\n",
            "Epoch: 1, Review: 20800, Accuracy: 84.65865384615384\n",
            "Epoch: 1, Review: 20900, Accuracy: 84.69856459330144\n",
            "Epoch: 1, Review: 21000, Accuracy: 84.65714285714286\n",
            "Epoch: 1, Review: 21100, Accuracy: 84.67772511848341\n",
            "Epoch: 1, Review: 21200, Accuracy: 84.68867924528301\n",
            "Epoch: 1, Review: 21300, Accuracy: 84.69483568075117\n",
            "Epoch: 1, Review: 21400, Accuracy: 84.69626168224299\n",
            "Epoch: 1, Review: 21500, Accuracy: 84.72558139534884\n",
            "Epoch: 1, Review: 21600, Accuracy: 84.75\n",
            "Epoch: 1, Review: 21700, Accuracy: 84.75115207373273\n",
            "Epoch: 1, Review: 21800, Accuracy: 84.73853211009174\n",
            "Epoch: 1, Review: 21900, Accuracy: 84.76255707762557\n",
            "Epoch: 1, Review: 22000, Accuracy: 84.76818181818182\n",
            "Epoch: 1, Review: 22100, Accuracy: 84.73755656108597\n",
            "Epoch: 1, Review: 22200, Accuracy: 84.75675675675676\n",
            "Epoch: 1, Review: 22300, Accuracy: 84.78026905829596\n",
            "Epoch: 1, Review: 22400, Accuracy: 84.75\n",
            "Epoch: 1, Review: 22500, Accuracy: 84.76444444444445\n",
            "Epoch: 1, Review: 22600, Accuracy: 84.72566371681415\n",
            "Epoch: 1, Review: 22700, Accuracy: 84.74008810572687\n",
            "Epoch: 1, Review: 22800, Accuracy: 84.74561403508773\n",
            "Epoch: 1, Review: 22900, Accuracy: 84.75109170305677\n",
            "Epoch: 1, Review: 23000, Accuracy: 84.73913043478261\n",
            "Epoch: 1, Review: 23100, Accuracy: 84.77922077922078\n",
            "Epoch: 1, Review: 23200, Accuracy: 84.79310344827586\n",
            "Epoch: 1, Review: 23300, Accuracy: 84.7381974248927\n",
            "Epoch: 1, Review: 23400, Accuracy: 84.72222222222223\n",
            "Epoch: 1, Review: 23500, Accuracy: 84.75744680851064\n",
            "Epoch: 1, Review: 23600, Accuracy: 84.78813559322033\n",
            "Epoch: 1, Review: 23700, Accuracy: 84.81856540084388\n",
            "Epoch: 1, Review: 23800, Accuracy: 84.86134453781513\n",
            "Epoch: 1, Review: 23900, Accuracy: 84.88702928870293\n",
            "Epoch: 1, Review: 24000, Accuracy: 84.92083333333333\n",
            "Finished Training\n"
          ],
          "name": "stdout"
        }
      ]
    },
    {
      "cell_type": "code",
      "metadata": {
        "id": "PO1y1K5rldbX",
        "colab_type": "code",
        "colab": {
          "base_uri": "https://localhost:8080/",
          "height": 68
        },
        "outputId": "fb02b9fe-96c5-4089-a824-305e7c810330"
      },
      "source": [
        "net.eval()\n",
        "correct = 0\n",
        "total = 0\n",
        "    \n",
        "for i,review in enumerate(test_reviews):\n",
        "   \n",
        "    x = get_input_vector(review)\n",
        "        \n",
        "    x = torch.from_numpy(x)\n",
        "        \n",
        "    x = x.to(device)\n",
        "        \n",
        "    prob = net(x.float())\n",
        "        \n",
        "    total+=1\n",
        "        \n",
        "    if( ( (prob.cpu()>0.5) & (y[i+24000]==1) ) | ( (prob.cpu()<=0.5) & (y[i+24000]==0) ) ):\n",
        "        correct+=1\n",
        "            \n",
        "        \n",
        "    if i % 1000 == 999: \n",
        "        accuracy = 100*correct/total\n",
        "        print('Epoch: {}, Review: {}, Test Accuracy: {}'.format(epoch + 1, i+1, accuracy))"
      ],
      "execution_count": 23,
      "outputs": [
        {
          "output_type": "stream",
          "text": [
            "/usr/local/lib/python3.6/dist-packages/torch/nn/functional.py:1569: UserWarning: nn.functional.sigmoid is deprecated. Use torch.sigmoid instead.\n",
            "  warnings.warn(\"nn.functional.sigmoid is deprecated. Use torch.sigmoid instead.\")\n"
          ],
          "name": "stderr"
        },
        {
          "output_type": "stream",
          "text": [
            "Epoch: 1, Review: 1000, Test Accuracy: 84.2\n"
          ],
          "name": "stdout"
        }
      ]
    },
    {
      "cell_type": "markdown",
      "metadata": {
        "id": "IFN71_Kjs7Lb",
        "colab_type": "text"
      },
      "source": [
        "**84.2% Accuracy on test data**"
      ]
    }
  ]
}